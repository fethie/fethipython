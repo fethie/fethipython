{
  "metadata": {
    "language_info": {
      "codemirror_mode": {
        "name": "python",
        "version": 3
      },
      "file_extension": ".py",
      "mimetype": "text/x-python",
      "name": "python",
      "nbconvert_exporter": "python",
      "pygments_lexer": "ipython3",
      "version": "3.8"
    },
    "kernelspec": {
      "name": "python",
      "display_name": "Python (Pyodide)",
      "language": "python"
    }
  },
  "nbformat_minor": 4,
  "nbformat": 4,
  "cells": [
    {
      "cell_type": "markdown",
      "source": "# PYTHON İLE MATEMATİKSEL İŞLEMLER",
      "metadata": {}
    },
    {
      "cell_type": "markdown",
      "source": "## 1. Toplama İşlemi",
      "metadata": {}
    },
    {
      "cell_type": "markdown",
      "source": "Python matematiksel işlemleri çok hızlı bir şekilde yapabilen bir yazılım dilidir. Bu örnekte bir toplama işlemi yapacağız.",
      "metadata": {}
    },
    {
      "cell_type": "raw",
      "source": "a=3\nb=5\na+b",
      "metadata": {}
    },
    {
      "cell_type": "markdown",
      "source": "## 2. Çıkarma İşlemi",
      "metadata": {}
    },
    {
      "cell_type": "markdown",
      "source": "Bu örnekte ise bir çıkarma işlemi yapacağız.",
      "metadata": {}
    },
    {
      "cell_type": "code",
      "source": "a=18\nb=25\nb-a",
      "metadata": {
        "trusted": true
      },
      "execution_count": 1,
      "outputs": [
        {
          "execution_count": 1,
          "output_type": "execute_result",
          "data": {
            "text/plain": "7"
          },
          "metadata": {}
        }
      ]
    },
    {
      "cell_type": "markdown",
      "source": "## 3. Tam Bölme İşlemi",
      "metadata": {}
    },
    {
      "cell_type": "markdown",
      "source": "// operatörü tam sayı bölme yapar",
      "metadata": {}
    },
    {
      "cell_type": "code",
      "source": "a=29\nb=7\na//b",
      "metadata": {
        "trusted": true
      },
      "execution_count": 2,
      "outputs": [
        {
          "execution_count": 2,
          "output_type": "execute_result",
          "data": {
            "text/plain": "4"
          },
          "metadata": {}
        }
      ]
    },
    {
      "cell_type": "markdown",
      "source": "## 4. Kalanı Bulma İşlemi",
      "metadata": {}
    },
    {
      "cell_type": "markdown",
      "source": "% operatörü bir sayının başka bir sayıya bölümünden kalanı bulmayı sağlar",
      "metadata": {}
    },
    {
      "cell_type": "code",
      "source": "a=57\nb=12\na%b",
      "metadata": {
        "trusted": true
      },
      "execution_count": 3,
      "outputs": [
        {
          "execution_count": 3,
          "output_type": "execute_result",
          "data": {
            "text/plain": "9"
          },
          "metadata": {}
        }
      ]
    },
    {
      "cell_type": "markdown",
      "source": "## 5. Üs Bulma İşlemi",
      "metadata": {}
    },
    {
      "cell_type": "markdown",
      "source": "** operatörü bir sayının üssünü bulmanızı sağlar.",
      "metadata": {}
    },
    {
      "cell_type": "code",
      "source": "a=5\nb=4\na**b",
      "metadata": {
        "trusted": true
      },
      "execution_count": 4,
      "outputs": [
        {
          "execution_count": 4,
          "output_type": "execute_result",
          "data": {
            "text/plain": "625"
          },
          "metadata": {}
        }
      ]
    },
    {
      "cell_type": "markdown",
      "source": "## 6. İşaret Değiştirme",
      "metadata": {}
    },
    {
      "cell_type": "code",
      "source": "a=65\nb=12\n-(a-b)",
      "metadata": {
        "trusted": true
      },
      "execution_count": 5,
      "outputs": [
        {
          "execution_count": 5,
          "output_type": "execute_result",
          "data": {
            "text/plain": "-53"
          },
          "metadata": {}
        }
      ]
    },
    {
      "cell_type": "markdown",
      "source": "## 7. İşlem Önceliği",
      "metadata": {}
    },
    {
      "cell_type": "markdown",
      "source": "Parantez İçi, Çarpma, Bölme, Toplama ve Çıkarma sırası şeklinde işlemleri yapar.",
      "metadata": {}
    },
    {
      "cell_type": "code",
      "source": "12*(21/7)-12+23",
      "metadata": {
        "trusted": true
      },
      "execution_count": 6,
      "outputs": [
        {
          "execution_count": 6,
          "output_type": "execute_result",
          "data": {
            "text/plain": "47.0"
          },
          "metadata": {}
        }
      ]
    }
  ]
}
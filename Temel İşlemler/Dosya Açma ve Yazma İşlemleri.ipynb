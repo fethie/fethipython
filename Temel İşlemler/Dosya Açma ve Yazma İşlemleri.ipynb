{
 "cells": [
  {
   "cell_type": "markdown",
   "id": "f08c4c23",
   "metadata": {},
   "source": [
    "# Dosya Açma ve Yazma İşlemleri"
   ]
  },
  {
   "cell_type": "code",
   "execution_count": 1,
   "id": "97537b10",
   "metadata": {},
   "outputs": [
    {
     "data": {
      "text/plain": [
       "<_io.TextIOWrapper name='bilgiler.txt' mode='w' encoding='cp1254'>"
      ]
     },
     "execution_count": 1,
     "metadata": {},
     "output_type": "execute_result"
    }
   ],
   "source": [
    "# Dosyayı bulunduğunuz dizinde açıyor\n",
    "open(\"bilgiler.txt\",\"w\")"
   ]
  },
  {
   "cell_type": "code",
   "execution_count": 4,
   "id": "60b92c12",
   "metadata": {},
   "outputs": [],
   "source": [
    "file=open(\"D:\\Python\\get-pip.docx\",\"w\")"
   ]
  },
  {
   "cell_type": "code",
   "execution_count": 41,
   "id": "f38e0259",
   "metadata": {},
   "outputs": [
    {
     "data": {
      "text/plain": [
       "14"
      ]
     },
     "execution_count": 41,
     "metadata": {},
     "output_type": "execute_result"
    }
   ],
   "source": [
    "#Türkçe karakter kullanmak için\n",
    "file=open(\"D:\\Python\\deneme.txt\",\"w\",encoding=\"utf-8\")\n",
    "file.write(\"Fethi ERASLAN \")"
   ]
  },
  {
   "cell_type": "code",
   "execution_count": 42,
   "id": "04cd37e8",
   "metadata": {},
   "outputs": [
    {
     "data": {
      "text/plain": [
       "15"
      ]
     },
     "execution_count": 42,
     "metadata": {},
     "output_type": "execute_result"
    }
   ],
   "source": [
    "file=open(\"D:\\Python\\deneme.txt\",\"a\",encoding=\"utf-8\")\n",
    "file.write(\"Pınarhisar MTAL\")"
   ]
  },
  {
   "cell_type": "code",
   "execution_count": 43,
   "id": "dcac1959",
   "metadata": {},
   "outputs": [
    {
     "name": "stdout",
     "output_type": "stream",
     "text": [
      "Fethi ERASLAN Pınarhisar MTAL\n"
     ]
    }
   ],
   "source": [
    "file=open(\"D:\\Python\\deneme.txt\",\"r\",encoding=\"utf-8\")\n",
    "for yaz in file:\n",
    "    print(yaz)\n",
    "file.close()"
   ]
  },
  {
   "cell_type": "code",
   "execution_count": 44,
   "id": "91cc3800",
   "metadata": {},
   "outputs": [
    {
     "data": {
      "text/plain": [
       "'Fethi ERASLAN Pınarhisar MTAL'"
      ]
     },
     "execution_count": 44,
     "metadata": {},
     "output_type": "execute_result"
    }
   ],
   "source": [
    "file=open(\"D:\\Python\\deneme.txt\",\"r\",encoding=\"utf-8\")\n",
    "file.readline()"
   ]
  },
  {
   "cell_type": "code",
   "execution_count": null,
   "id": "02ce3442",
   "metadata": {},
   "outputs": [],
   "source": []
  }
 ],
 "metadata": {
  "kernelspec": {
   "display_name": "Python 3 (ipykernel)",
   "language": "python",
   "name": "python3"
  },
  "language_info": {
   "codemirror_mode": {
    "name": "ipython",
    "version": 3
   },
   "file_extension": ".py",
   "mimetype": "text/x-python",
   "name": "python",
   "nbconvert_exporter": "python",
   "pygments_lexer": "ipython3",
   "version": "3.9.13"
  }
 },
 "nbformat": 4,
 "nbformat_minor": 5
}

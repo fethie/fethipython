{
 "cells": [
  {
   "cell_type": "markdown",
   "id": "8d6b909c",
   "metadata": {},
   "source": [
    "# Koşullu Durumlar"
   ]
  },
  {
   "cell_type": "code",
   "execution_count": 1,
   "id": "a63590bb",
   "metadata": {},
   "outputs": [
    {
     "name": "stdout",
     "output_type": "stream",
     "text": [
      "Yaşınızı giriniz.21\n"
     ]
    }
   ],
   "source": [
    "yas=int(input(\"Yaşınızı giriniz.\"))\n",
    "if yas<18:\n",
    "    print(\"Bu mekana giremezsiniz.\")"
   ]
  },
  {
   "cell_type": "code",
   "execution_count": 2,
   "id": "460e2b0b",
   "metadata": {},
   "outputs": [
    {
     "name": "stdout",
     "output_type": "stream",
     "text": [
      "Yaşınızı giriniz.21\n",
      "Bu mekana girebilirsin.\n"
     ]
    }
   ],
   "source": [
    "yas=int(input(\"Yaşınızı giriniz.\"))\n",
    "if (yas<18):\n",
    "    print(\"Bu mekana giremezsiniz.\")\n",
    "else:\n",
    "    print(\"Bu mekana girebilirsin.\")"
   ]
  },
  {
   "cell_type": "code",
   "execution_count": 3,
   "id": "7940e5b4",
   "metadata": {},
   "outputs": [
    {
     "name": "stdout",
     "output_type": "stream",
     "text": [
      "Bir sayı giriniz.21\n",
      "Girdiğiniz sayı pozitiftir.\n"
     ]
    }
   ],
   "source": [
    "sayi1=int(input(\"Bir sayı giriniz.\"))\n",
    "if (sayi1==0):\n",
    "    print(\"Girdiğiniz sayı 0'dır.\")\n",
    "elif (sayi1<0):\n",
    "    print(\"Girdiğiniz sayı negatiftir.\")\n",
    "else:\n",
    "    print(\"Girdiğiniz sayı pozitiftir.\")    "
   ]
  },
  {
   "cell_type": "code",
   "execution_count": 20,
   "id": "0478e5ff",
   "metadata": {},
   "outputs": [
    {
     "name": "stdout",
     "output_type": "stream",
     "text": [
      "1. Notunu gir.40\n",
      "2. Notunu gir.60\n",
      "3. Notunu gir.80\n",
      "Notunuz: 60.0 Orta.\n"
     ]
    }
   ],
   "source": [
    "not1=int(input(\"1. Notunu gir.\"))\n",
    "not2=int(input(\"2. Notunu gir.\"))\n",
    "not3=int(input(\"3. Notunu gir.\"))\n",
    "ort=float((not1+not2+not3)/3)\n",
    "if (ort>=85):\n",
    "    print(\"Notunuz:\",ort,\"Pekiyi.\")\n",
    "elif (ort>=70):\n",
    "    print(\"Notunuz:\",ort,\"İyi.\")\n",
    "elif (ort>=55):\n",
    "    print(\"Notunuz:\",ort,\"Orta.\")\n",
    "elif (ort>=45):\n",
    "    print(\"Notunuz:\",ort,\"Geçer.\")   \n",
    "else:\n",
    "    print(\"Zayıf.\")  "
   ]
  },
  {
   "cell_type": "code",
   "execution_count": 11,
   "id": "95c414d7",
   "metadata": {},
   "outputs": [
    {
     "name": "stdout",
     "output_type": "stream",
     "text": [
      "İşlem seçiniz.2\n",
      "2. işlem seçildi.\n"
     ]
    }
   ],
   "source": [
    "islem =int(input(\"İşlem seçiniz.\"))\n",
    "\n",
    "if islem==1:\n",
    "    print(\"1. işlem seçildi.\")\n",
    "elif islem==2:\n",
    "    print(\"2. işlem seçildi.\")\n",
    "elif islem==3:\n",
    "    print(\"3. işlem seçildi.\")\n",
    "else:\n",
    "    print(\"Geçersiz işlem\")"
   ]
  },
  {
   "cell_type": "code",
   "execution_count": null,
   "id": "46b623fb",
   "metadata": {},
   "outputs": [],
   "source": []
  }
 ],
 "metadata": {
  "kernelspec": {
   "display_name": "Python 3 (ipykernel)",
   "language": "python",
   "name": "python3"
  },
  "language_info": {
   "codemirror_mode": {
    "name": "ipython",
    "version": 3
   },
   "file_extension": ".py",
   "mimetype": "text/x-python",
   "name": "python",
   "nbconvert_exporter": "python",
   "pygments_lexer": "ipython3",
   "version": "3.9.13"
  }
 },
 "nbformat": 4,
 "nbformat_minor": 5
}

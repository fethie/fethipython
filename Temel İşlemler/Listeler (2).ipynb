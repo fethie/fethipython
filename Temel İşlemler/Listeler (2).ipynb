{
 "cells": [
  {
   "cell_type": "markdown",
   "id": "90bf66a1",
   "metadata": {},
   "source": [
    "# Listeler"
   ]
  },
  {
   "cell_type": "markdown",
   "id": "f263cc62",
   "metadata": {},
   "source": [
    "Bu bölümde yapacağımız işlemler şunlardır:\n",
    "\n",
    "            1. Liste Oluşturma\n",
    "            2. İndeksleme ve Parçalama\n",
    "            3. Temel Liste  Metodları ve İşlemleri\n",
    "            4. İç İçe Listeler"
   ]
  },
  {
   "cell_type": "markdown",
   "id": "106c7530",
   "metadata": {},
   "source": [
    "## 1. Liste Oluşturma"
   ]
  },
  {
   "cell_type": "markdown",
   "id": "3673875f",
   "metadata": {},
   "source": [
    "Listeler bir [] köşeli parantez içine veriler veya değerler konarak oluşturulabilir."
   ]
  },
  {
   "cell_type": "code",
   "execution_count": 1,
   "id": "aced83ec",
   "metadata": {},
   "outputs": [
    {
     "data": {
      "text/plain": [
       "['Erik', 'Çilek', 'Karpuz', 'Kavun']"
      ]
     },
     "execution_count": 1,
     "metadata": {},
     "output_type": "execute_result"
    }
   ],
   "source": [
    "# Sevdiğim Meyveler\n",
    "Meyveler=[\"Erik\",\"Çilek\",\"Karpuz\",\"Kavun\"]\n",
    "Meyveler"
   ]
  },
  {
   "cell_type": "code",
   "execution_count": 2,
   "id": "49254066",
   "metadata": {},
   "outputs": [
    {
     "data": {
      "text/plain": [
       "4"
      ]
     },
     "execution_count": 2,
     "metadata": {},
     "output_type": "execute_result"
    }
   ],
   "source": [
    "# Küme eleman sayısını bulma\n",
    "Meyveler=[\"Erik\",\"Çilek\",\"Karpuz\",\"Kavun\"]\n",
    "len(Meyveler)"
   ]
  },
  {
   "cell_type": "code",
   "execution_count": 3,
   "id": "5d81a3b7",
   "metadata": {},
   "outputs": [
    {
     "data": {
      "text/plain": [
       "['M', 'e', 'r', 'h', 'a', 'b', 'a']"
      ]
     },
     "execution_count": 3,
     "metadata": {},
     "output_type": "execute_result"
    }
   ],
   "source": [
    "s= \"Merhaba\"\n",
    "slm=list(s)\n",
    "slm"
   ]
  },
  {
   "cell_type": "code",
   "execution_count": 4,
   "id": "45595708",
   "metadata": {},
   "outputs": [
    {
     "data": {
      "text/plain": [
       "5"
      ]
     },
     "execution_count": 4,
     "metadata": {},
     "output_type": "execute_result"
    }
   ],
   "source": [
    "Tek_Sayilar=[1,3,5,7,9]\n",
    "len(Tek_Sayilar)"
   ]
  },
  {
   "cell_type": "code",
   "execution_count": 5,
   "id": "faa60b9f",
   "metadata": {},
   "outputs": [
    {
     "data": {
      "text/plain": [
       "'Kavun'"
      ]
     },
     "execution_count": 5,
     "metadata": {},
     "output_type": "execute_result"
    }
   ],
   "source": [
    "# Liste içindeki kaçıncı sıradaki elemanı isterseniz onu bulur.\n",
    "Meyveler=[\"Erik\",\"Çilek\",\"Karpuz\",\"Kavun\"]\n",
    "Meyveler[3]"
   ]
  },
  {
   "cell_type": "code",
   "execution_count": 6,
   "id": "0bd67980",
   "metadata": {},
   "outputs": [
    {
     "data": {
      "text/plain": [
       "[1, 3, 5]"
      ]
     },
     "execution_count": 6,
     "metadata": {},
     "output_type": "execute_result"
    }
   ],
   "source": [
    "# Listenizdeki indeksi listeler, örnek baştan 3. indekse kadar (3. hariç)\n",
    "Tek_Sayilar=[1,3,5,7,9]\n",
    "Tek_Sayilar[:3]"
   ]
  },
  {
   "cell_type": "code",
   "execution_count": 7,
   "id": "6dddff22",
   "metadata": {},
   "outputs": [
    {
     "data": {
      "text/plain": [
       "[5]"
      ]
     },
     "execution_count": 7,
     "metadata": {},
     "output_type": "execute_result"
    }
   ],
   "source": [
    "# Listenizdeki indeksi listeler, 2. ve 3. indekse kadar (sadece 2. indeksteki)\n",
    "Tek_Sayilar=[1,3,5,7,9]\n",
    "Tek_Sayilar[2:3]"
   ]
  },
  {
   "cell_type": "code",
   "execution_count": 8,
   "id": "373ff8d6",
   "metadata": {},
   "outputs": [
    {
     "data": {
      "text/plain": [
       "[5, 7, 9]"
      ]
     },
     "execution_count": 8,
     "metadata": {},
     "output_type": "execute_result"
    }
   ],
   "source": [
    "# Listenizdeki indeksi listeler, örnek 2. indeksten sonuna kadar\n",
    "Tek_Sayilar=[1,3,5,7,9]\n",
    "Tek_Sayilar[2:]"
   ]
  },
  {
   "cell_type": "code",
   "execution_count": 9,
   "id": "7815f1a8",
   "metadata": {},
   "outputs": [
    {
     "data": {
      "text/plain": [
       "7"
      ]
     },
     "execution_count": 9,
     "metadata": {},
     "output_type": "execute_result"
    }
   ],
   "source": [
    "Tek_Sayilar=[1,3,5,7,9]\n",
    "Tek_Sayilar[-2]"
   ]
  },
  {
   "cell_type": "code",
   "execution_count": 10,
   "id": "57fa85f5",
   "metadata": {},
   "outputs": [
    {
     "data": {
      "text/plain": [
       "7"
      ]
     },
     "execution_count": 10,
     "metadata": {},
     "output_type": "execute_result"
    }
   ],
   "source": [
    "Tek_Sayilar=[1,3,5,7,9]\n",
    "Tek_Sayilar[-2]"
   ]
  },
  {
   "cell_type": "code",
   "execution_count": 11,
   "id": "65a2346f",
   "metadata": {},
   "outputs": [],
   "source": [
    "Tek_Sayilar= Tek_Sayilar+[11,13,15]"
   ]
  },
  {
   "cell_type": "code",
   "execution_count": 12,
   "id": "111ca7ad",
   "metadata": {},
   "outputs": [
    {
     "data": {
      "text/plain": [
       "[1, 3, 5, 7, 9, 11, 13, 15]"
      ]
     },
     "execution_count": 12,
     "metadata": {},
     "output_type": "execute_result"
    }
   ],
   "source": [
    "Tek_Sayilar"
   ]
  },
  {
   "cell_type": "code",
   "execution_count": 13,
   "id": "bec19f43",
   "metadata": {},
   "outputs": [
    {
     "name": "stdout",
     "output_type": "stream",
     "text": [
      "Lütfen bir sayı giriniz25\n"
     ]
    },
    {
     "data": {
      "text/plain": [
       "'25'"
      ]
     },
     "execution_count": 13,
     "metadata": {},
     "output_type": "execute_result"
    }
   ],
   "source": [
    "input(\"Lütfen bir sayı giriniz\")"
   ]
  },
  {
   "cell_type": "code",
   "execution_count": 14,
   "id": "f33b9695",
   "metadata": {},
   "outputs": [
    {
     "name": "stdout",
     "output_type": "stream",
     "text": [
      "Lütfen isminizi girinizFethi\n",
      "Hoşgeldin  Fethi\n"
     ]
    }
   ],
   "source": [
    "isim=input(\"Lütfen isminizi giriniz\")\n",
    "print(\"Hoşgeldin \",isim)"
   ]
  },
  {
   "cell_type": "code",
   "execution_count": 15,
   "id": "92a8a3f2",
   "metadata": {},
   "outputs": [
    {
     "name": "stdout",
     "output_type": "stream",
     "text": [
      "1. sayıyı giriniz10\n",
      "2. sayıyı giriniz20\n",
      "3. sayıyı giriniz30\n",
      "3 sayının toplamı: 60\n"
     ]
    }
   ],
   "source": [
    "x=int(input(\"1. sayıyı giriniz\"))\n",
    "y=int(input(\"2. sayıyı giriniz\"))\n",
    "z=int(input(\"3. sayıyı giriniz\"))\n",
    "print(\"3 sayının toplamı:\", x+y+z)"
   ]
  },
  {
   "cell_type": "code",
   "execution_count": 16,
   "id": "cc4c747e",
   "metadata": {},
   "outputs": [
    {
     "name": "stdout",
     "output_type": "stream",
     "text": [
      "Lütfen isminizi girinizFethi\n",
      "Hoşgeldin Fethi ,Nasılsın?\n"
     ]
    }
   ],
   "source": [
    "isim=input(\"Lütfen isminizi giriniz\")\n",
    "print(\"Hoşgeldin\",isim,\",Nasılsın?\")"
   ]
  },
  {
   "cell_type": "code",
   "execution_count": 17,
   "id": "a30528f3",
   "metadata": {},
   "outputs": [
    {
     "name": "stdout",
     "output_type": "stream",
     "text": [
      "Lütfen isminizi girinizFethi\n",
      "Hoşgeldin Fethi \n",
      "Nasılsın?\n"
     ]
    }
   ],
   "source": [
    "isim=input(\"Lütfen isminizi giriniz\")\n",
    "print(\"Hoşgeldin\",isim,\"\\nNasılsın?\")"
   ]
  },
  {
   "cell_type": "code",
   "execution_count": 18,
   "id": "4444983c",
   "metadata": {},
   "outputs": [
    {
     "name": "stdout",
     "output_type": "stream",
     "text": [
      "Lütfen isminizi girinizFethi\n",
      "Hoşgeldin Fethi \tNasılsın?\n"
     ]
    }
   ],
   "source": [
    "isim=input(\"Lütfen isminizi giriniz\")\n",
    "print(\"Hoşgeldin\",isim,\"\\tNasılsın?\")"
   ]
  },
  {
   "cell_type": "markdown",
   "id": "25bf3584",
   "metadata": {},
   "source": [
    "## Type Fonksiyonu"
   ]
  },
  {
   "cell_type": "code",
   "execution_count": 19,
   "id": "136c0874",
   "metadata": {},
   "outputs": [
    {
     "name": "stdout",
     "output_type": "stream",
     "text": [
      "<class 'int'>\n"
     ]
    }
   ],
   "source": [
    "# integer tam sayı türü\n",
    "a=65\n",
    "print(type(a))"
   ]
  },
  {
   "cell_type": "code",
   "execution_count": 20,
   "id": "d143be69",
   "metadata": {},
   "outputs": [
    {
     "name": "stdout",
     "output_type": "stream",
     "text": [
      "<class 'float'>\n"
     ]
    }
   ],
   "source": [
    "# float tam sayı türü\n",
    "a=65.9\n",
    "print(type(a))"
   ]
  },
  {
   "cell_type": "code",
   "execution_count": 21,
   "id": "7e23ee2c",
   "metadata": {},
   "outputs": [
    {
     "name": "stdout",
     "output_type": "stream",
     "text": [
      "0.1.2.3.4.5.6.7.8.9\n"
     ]
    }
   ],
   "source": [
    "print(0,1,2,3,4,5,6,7,8,9, sep=\".\")"
   ]
  },
  {
   "cell_type": "code",
   "execution_count": 22,
   "id": "e6bc6c49",
   "metadata": {},
   "outputs": [
    {
     "name": "stdout",
     "output_type": "stream",
     "text": [
      "3/c\n"
     ]
    }
   ],
   "source": [
    "rakamlar=(0,1,2,3,4,5,6,7,8,9)\n",
    "harfler=(\"a\",\"b\",\"c\")\n",
    "print(rakamlar[3],harfler[2],sep=\"/\")"
   ]
  },
  {
   "cell_type": "code",
   "execution_count": 23,
   "id": "79c0c75c",
   "metadata": {},
   "outputs": [
    {
     "name": "stdout",
     "output_type": "stream",
     "text": [
      "H/o/ş/g/e/l/d/i/n\n"
     ]
    }
   ],
   "source": [
    "print(*\"Hoşgeldin\",sep=\"/\")"
   ]
  },
  {
   "cell_type": "code",
   "execution_count": 24,
   "id": "2278d7e1",
   "metadata": {},
   "outputs": [
    {
     "name": "stdout",
     "output_type": "stream",
     "text": [
      "H\n",
      "o\n",
      "ş\n",
      "g\n",
      "e\n",
      "l\n",
      "d\n",
      "i\n",
      "n\n"
     ]
    }
   ],
   "source": [
    "print(*\"Hoşgeldin\",sep=\"\\n\")"
   ]
  },
  {
   "cell_type": "code",
   "execution_count": 25,
   "id": "fa020d49",
   "metadata": {},
   "outputs": [
    {
     "name": "stdout",
     "output_type": "stream",
     "text": [
      "H\to\tş\tg\te\tl\td\ti\tn\n"
     ]
    }
   ],
   "source": [
    "print(*\"Hoşgeldin\",sep=\"\\t\")"
   ]
  },
  {
   "cell_type": "code",
   "execution_count": 26,
   "id": "a10667ae",
   "metadata": {},
   "outputs": [
    {
     "name": "stdout",
     "output_type": "stream",
     "text": [
      "1. notunu gir:10\n",
      "2. notunu gir:20\n",
      "3. notunu gir:40\n",
      "Karne Notu Ortalaması: 23.333333333333332\n"
     ]
    }
   ],
   "source": [
    "x=int(input(\"1. notunu gir:\"))\n",
    "y=int(input(\"2. notunu gir:\"))\n",
    "z=int(input(\"3. notunu gir:\"))\n",
    "print(\"Karne Notu Ortalaması:\", float(x+y+z)/3)"
   ]
  },
  {
   "cell_type": "code",
   "execution_count": 27,
   "id": "a0b31748",
   "metadata": {},
   "outputs": [
    {
     "data": {
      "text/plain": [
       "'323534586'"
      ]
     },
     "execution_count": 27,
     "metadata": {},
     "output_type": "execute_result"
    }
   ],
   "source": [
    "a=323534586\n",
    "b=str(a)\n",
    "b"
   ]
  },
  {
   "cell_type": "code",
   "execution_count": 28,
   "id": "8fb63be5",
   "metadata": {},
   "outputs": [
    {
     "data": {
      "text/plain": [
       "9"
      ]
     },
     "execution_count": 28,
     "metadata": {},
     "output_type": "execute_result"
    }
   ],
   "source": [
    "len(b)"
   ]
  },
  {
   "cell_type": "code",
   "execution_count": 29,
   "id": "f9c73622",
   "metadata": {},
   "outputs": [
    {
     "data": {
      "text/plain": [
       "'(3, 14343)'"
      ]
     },
     "execution_count": 29,
     "metadata": {},
     "output_type": "execute_result"
    }
   ],
   "source": [
    "t=3,14343\n",
    "y=str(t)\n",
    "y"
   ]
  },
  {
   "cell_type": "code",
   "execution_count": null,
   "id": "7a602384",
   "metadata": {},
   "outputs": [],
   "source": []
  }
 ],
 "metadata": {
  "kernelspec": {
   "display_name": "Python 3 (ipykernel)",
   "language": "python",
   "name": "python3"
  },
  "language_info": {
   "codemirror_mode": {
    "name": "ipython",
    "version": 3
   },
   "file_extension": ".py",
   "mimetype": "text/x-python",
   "name": "python",
   "nbconvert_exporter": "python",
   "pygments_lexer": "ipython3",
   "version": "3.9.13"
  }
 },
 "nbformat": 4,
 "nbformat_minor": 5
}

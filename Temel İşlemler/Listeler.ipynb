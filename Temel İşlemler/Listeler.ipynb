{
 "cells": [
  {
   "cell_type": "markdown",
   "id": "34168d03",
   "metadata": {},
   "source": [
    "# Listeler"
   ]
  },
  {
   "cell_type": "markdown",
   "id": "0bf1450e",
   "metadata": {},
   "source": [
    "Bu bölümde yapacağımız işlemler şunlardır:\n",
    "\n",
    "            1. Liste Oluşturma\n",
    "            2. İndeksleme ve Parçalama\n",
    "            3. Temel Liste  Metodları ve İşlemleri\n",
    "            4. İç İçe Listeler"
   ]
  },
  {
   "cell_type": "markdown",
   "id": "223832e8",
   "metadata": {},
   "source": [
    "## 1. Liste Oluşturma"
   ]
  },
  {
   "cell_type": "markdown",
   "id": "21e7d436",
   "metadata": {},
   "source": [
    "Listeler bir [] köşeli parantez içine veriler veya değerler konarak oluşturulabilir."
   ]
  },
  {
   "cell_type": "code",
   "execution_count": 1,
   "id": "43a41448",
   "metadata": {},
   "outputs": [
    {
     "data": {
      "text/plain": [
       "['Erik', 'Çilek', 'Karpuz', 'Kavun']"
      ]
     },
     "execution_count": 1,
     "metadata": {},
     "output_type": "execute_result"
    }
   ],
   "source": [
    "# Sevdiğim Meyveler\n",
    "Meyveler=[\"Erik\",\"Çilek\",\"Karpuz\",\"Kavun\"]\n",
    "Meyveler"
   ]
  },
  {
   "cell_type": "code",
   "execution_count": 2,
   "id": "81bc139f",
   "metadata": {},
   "outputs": [
    {
     "data": {
      "text/plain": [
       "4"
      ]
     },
     "execution_count": 2,
     "metadata": {},
     "output_type": "execute_result"
    }
   ],
   "source": [
    "# Küme eleman sayısını bulma\n",
    "Meyveler=[\"Erik\",\"Çilek\",\"Karpuz\",\"Kavun\"]\n",
    "len(Meyveler)"
   ]
  },
  {
   "cell_type": "code",
   "execution_count": 3,
   "id": "c01be0e5",
   "metadata": {},
   "outputs": [
    {
     "data": {
      "text/plain": [
       "['M', 'e', 'r', 'h', 'a', 'b', 'a']"
      ]
     },
     "execution_count": 3,
     "metadata": {},
     "output_type": "execute_result"
    }
   ],
   "source": [
    "s= \"Merhaba\"\n",
    "slm=list(s)\n",
    "slm"
   ]
  },
  {
   "cell_type": "code",
   "execution_count": 4,
   "id": "956876c5",
   "metadata": {},
   "outputs": [
    {
     "data": {
      "text/plain": [
       "5"
      ]
     },
     "execution_count": 4,
     "metadata": {},
     "output_type": "execute_result"
    }
   ],
   "source": [
    "Tek_Sayilar=[1,3,5,7,9]\n",
    "len(Tek_Sayilar)"
   ]
  },
  {
   "cell_type": "code",
   "execution_count": 5,
   "id": "c6885b09",
   "metadata": {},
   "outputs": [
    {
     "data": {
      "text/plain": [
       "'Kavun'"
      ]
     },
     "execution_count": 5,
     "metadata": {},
     "output_type": "execute_result"
    }
   ],
   "source": [
    "# Liste içindeki kaçıncı sıradaki elemanı isterseniz onu bulur.\n",
    "Meyveler=[\"Erik\",\"Çilek\",\"Karpuz\",\"Kavun\"]\n",
    "Meyveler[3]"
   ]
  },
  {
   "cell_type": "code",
   "execution_count": 6,
   "id": "02408e9c",
   "metadata": {},
   "outputs": [
    {
     "data": {
      "text/plain": [
       "[1, 3, 5]"
      ]
     },
     "execution_count": 6,
     "metadata": {},
     "output_type": "execute_result"
    }
   ],
   "source": [
    "# Listenizdeki indeksi listeler, örnek baştan 3. indekse kadar (3. hariç)\n",
    "Tek_Sayilar=[1,3,5,7,9]\n",
    "Tek_Sayilar[:3]"
   ]
  },
  {
   "cell_type": "code",
   "execution_count": 10,
   "id": "36cf2376",
   "metadata": {},
   "outputs": [
    {
     "data": {
      "text/plain": [
       "[5]"
      ]
     },
     "execution_count": 10,
     "metadata": {},
     "output_type": "execute_result"
    }
   ],
   "source": [
    "# Listenizdeki indeksi listeler, 2. ve 3. indekse kadar (sadece 2. indeksteki)\n",
    "Tek_Sayilar=[1,3,5,7,9]\n",
    "Tek_Sayilar[2:3]"
   ]
  },
  {
   "cell_type": "code",
   "execution_count": 11,
   "id": "a6b1a3b3",
   "metadata": {},
   "outputs": [
    {
     "data": {
      "text/plain": [
       "[5, 7, 9]"
      ]
     },
     "execution_count": 11,
     "metadata": {},
     "output_type": "execute_result"
    }
   ],
   "source": [
    "# Listenizdeki indeksi listeler, örnek 2. indeksten sonuna kadar\n",
    "Tek_Sayilar=[1,3,5,7,9]\n",
    "Tek_Sayilar[2:]"
   ]
  },
  {
   "cell_type": "code",
   "execution_count": 9,
   "id": "a4393f26",
   "metadata": {},
   "outputs": [
    {
     "data": {
      "text/plain": [
       "7"
      ]
     },
     "execution_count": 9,
     "metadata": {},
     "output_type": "execute_result"
    }
   ],
   "source": [
    "Tek_Sayilar=[1,3,5,7,9]\n",
    "Tek_Sayilar[-2]"
   ]
  },
  {
   "cell_type": "code",
   "execution_count": 12,
   "id": "ae013297",
   "metadata": {},
   "outputs": [
    {
     "data": {
      "text/plain": [
       "7"
      ]
     },
     "execution_count": 12,
     "metadata": {},
     "output_type": "execute_result"
    }
   ],
   "source": [
    "Tek_Sayilar=[1,3,5,7,9]\n",
    "Tek_Sayilar[-2]"
   ]
  },
  {
   "cell_type": "code",
   "execution_count": 13,
   "id": "e103fc5e",
   "metadata": {},
   "outputs": [],
   "source": [
    "Tek_Sayilar= Tek_Sayilar+[11,13,15]"
   ]
  },
  {
   "cell_type": "code",
   "execution_count": 14,
   "id": "3b7d8140",
   "metadata": {},
   "outputs": [
    {
     "data": {
      "text/plain": [
       "[1, 3, 5, 7, 9, 11, 13, 15]"
      ]
     },
     "execution_count": 14,
     "metadata": {},
     "output_type": "execute_result"
    }
   ],
   "source": [
    "Tek_Sayilar"
   ]
  }
 ],
 "metadata": {
  "kernelspec": {
   "display_name": "Python 3 (ipykernel)",
   "language": "python",
   "name": "python3"
  },
  "language_info": {
   "codemirror_mode": {
    "name": "ipython",
    "version": 3
   },
   "file_extension": ".py",
   "mimetype": "text/x-python",
   "name": "python",
   "nbconvert_exporter": "python",
   "pygments_lexer": "ipython3",
   "version": "3.9.13"
  }
 },
 "nbformat": 4,
 "nbformat_minor": 5
}

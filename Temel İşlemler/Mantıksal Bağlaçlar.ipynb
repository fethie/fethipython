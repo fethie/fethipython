{
 "cells": [
  {
   "cell_type": "markdown",
   "id": "b0a6a058",
   "metadata": {},
   "source": [
    "# Mantıksal Bağlaçlar"
   ]
  },
  {
   "cell_type": "markdown",
   "id": "a733edde",
   "metadata": {},
   "source": [
    "## and Operatörü"
   ]
  },
  {
   "cell_type": "code",
   "execution_count": 1,
   "id": "131cd629",
   "metadata": {},
   "outputs": [
    {
     "data": {
      "text/plain": [
       "True"
      ]
     },
     "execution_count": 1,
     "metadata": {},
     "output_type": "execute_result"
    }
   ],
   "source": [
    "1<2 and \"Murat\"==\"Murat\""
   ]
  },
  {
   "cell_type": "code",
   "execution_count": 8,
   "id": "d95686de",
   "metadata": {},
   "outputs": [
    {
     "data": {
      "text/plain": [
       "False"
      ]
     },
     "execution_count": 8,
     "metadata": {},
     "output_type": "execute_result"
    }
   ],
   "source": [
    "2>3 and \"Murat\"==\"Murat\""
   ]
  },
  {
   "cell_type": "code",
   "execution_count": 9,
   "id": "eb43ddfb",
   "metadata": {},
   "outputs": [
    {
     "data": {
      "text/plain": [
       "True"
      ]
     },
     "execution_count": 9,
     "metadata": {},
     "output_type": "execute_result"
    }
   ],
   "source": [
    "2<3 and \"Murat\"!=\"murat\""
   ]
  },
  {
   "cell_type": "markdown",
   "id": "a3bb3d72",
   "metadata": {},
   "source": [
    "## or Operatörü"
   ]
  },
  {
   "cell_type": "code",
   "execution_count": 6,
   "id": "1d5b99b0",
   "metadata": {},
   "outputs": [
    {
     "data": {
      "text/plain": [
       "True"
      ]
     },
     "execution_count": 6,
     "metadata": {},
     "output_type": "execute_result"
    }
   ],
   "source": [
    "2>3 or \"Murat\"==\"Murat\""
   ]
  },
  {
   "cell_type": "code",
   "execution_count": 14,
   "id": "92ee2b61",
   "metadata": {},
   "outputs": [
    {
     "data": {
      "text/plain": [
       "False"
      ]
     },
     "execution_count": 14,
     "metadata": {},
     "output_type": "execute_result"
    }
   ],
   "source": [
    "1>2 or \"Murat\"==\"murat\""
   ]
  },
  {
   "cell_type": "code",
   "execution_count": 11,
   "id": "bb6f7149",
   "metadata": {},
   "outputs": [
    {
     "data": {
      "text/plain": [
       "False"
      ]
     },
     "execution_count": 11,
     "metadata": {},
     "output_type": "execute_result"
    }
   ],
   "source": [
    "1>2 or \"Murat\"!=\"Murat\""
   ]
  },
  {
   "cell_type": "code",
   "execution_count": 15,
   "id": "ae26f3b2",
   "metadata": {},
   "outputs": [
    {
     "data": {
      "text/plain": [
       "False"
      ]
     },
     "execution_count": 15,
     "metadata": {},
     "output_type": "execute_result"
    }
   ],
   "source": [
    "1==2 or \"Murat\"!=\"Murat\""
   ]
  },
  {
   "cell_type": "code",
   "execution_count": 16,
   "id": "2f6bb815",
   "metadata": {},
   "outputs": [
    {
     "data": {
      "text/plain": [
       "True"
      ]
     },
     "execution_count": 16,
     "metadata": {},
     "output_type": "execute_result"
    }
   ],
   "source": [
    "1==2 or \"Murat\"==\"Murat\""
   ]
  },
  {
   "cell_type": "code",
   "execution_count": null,
   "id": "b93f2d29",
   "metadata": {},
   "outputs": [],
   "source": []
  }
 ],
 "metadata": {
  "kernelspec": {
   "display_name": "Python 3 (ipykernel)",
   "language": "python",
   "name": "python3"
  },
  "language_info": {
   "codemirror_mode": {
    "name": "ipython",
    "version": 3
   },
   "file_extension": ".py",
   "mimetype": "text/x-python",
   "name": "python",
   "nbconvert_exporter": "python",
   "pygments_lexer": "ipython3",
   "version": "3.9.13"
  }
 },
 "nbformat": 4,
 "nbformat_minor": 5
}

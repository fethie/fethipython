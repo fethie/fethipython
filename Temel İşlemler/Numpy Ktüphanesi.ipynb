{
 "cells": [
  {
   "cell_type": "markdown",
   "id": "44d5ad6e",
   "metadata": {},
   "source": [
    "# Numpy Kütüphanesi"
   ]
  },
  {
   "cell_type": "code",
   "execution_count": 2,
   "id": "7ff31193",
   "metadata": {},
   "outputs": [
    {
     "name": "stdout",
     "output_type": "stream",
     "text": [
      "[50.  85.  92.5 97.5]\n"
     ]
    }
   ],
   "source": [
    "import numpy as np\n",
    "sinav1=[40,80,90,100]\n",
    "sinav2=[60,90,95,95]\n",
    "\n",
    "sinav1_np=np.array(sinav1)\n",
    "sinav2_np=np.array(sinav2)\n",
    "\n",
    "ort=(sinav1_np+sinav2_np)/2\n",
    "print(ort)"
   ]
  },
  {
   "cell_type": "code",
   "execution_count": 5,
   "id": "22c73d13",
   "metadata": {},
   "outputs": [
    {
     "name": "stdout",
     "output_type": "stream",
     "text": [
      "[[1 2 3]\n",
      " [4 5 6]]\n"
     ]
    }
   ],
   "source": [
    "import numpy as np\n",
    "# 2 boyutlu bir NumPy dizisi oluşturma\n",
    "benim_dizim=np.array([[1,2,3],[4,5,6]])\n",
    "\n",
    "print(benim_dizim)"
   ]
  },
  {
   "cell_type": "code",
   "execution_count": 7,
   "id": "ba1d1e20",
   "metadata": {},
   "outputs": [
    {
     "name": "stdout",
     "output_type": "stream",
     "text": [
      "[1 2 3]\n"
     ]
    }
   ],
   "source": [
    "import numpy as np\n",
    "a = np.array([1, 2, 3])\n",
    "print(a)"
   ]
  },
  {
   "cell_type": "code",
   "execution_count": 9,
   "id": "61c5c65c",
   "metadata": {},
   "outputs": [
    {
     "name": "stdout",
     "output_type": "stream",
     "text": [
      "5\n"
     ]
    }
   ],
   "source": [
    "import numpy as np\n",
    "arr = np.array([1, 2, 3, 4, 5])\n",
    "max_deger=np.amax(arr)\n",
    "print(max_deger)"
   ]
  },
  {
   "cell_type": "code",
   "execution_count": 10,
   "id": "514d35f1",
   "metadata": {},
   "outputs": [
    {
     "name": "stdout",
     "output_type": "stream",
     "text": [
      "1\n"
     ]
    }
   ],
   "source": [
    "import numpy as np\n",
    "arr = np.array([1, 2, 3, 4, 5])\n",
    "min_deger=np.amin(arr)\n",
    "print(min_deger)"
   ]
  },
  {
   "cell_type": "code",
   "execution_count": 12,
   "id": "6ab1229c",
   "metadata": {},
   "outputs": [
    {
     "name": "stdout",
     "output_type": "stream",
     "text": [
      "1\n"
     ]
    }
   ],
   "source": [
    "import numpy as np\n",
    "arr = np.array([[1, 2, 3, 4, 5],[6,7,8,9,10]])\n",
    "min_deger=np.amin(arr)\n",
    "print(min_deger)"
   ]
  },
  {
   "cell_type": "code",
   "execution_count": 15,
   "id": "80bb370f",
   "metadata": {},
   "outputs": [
    {
     "name": "stdout",
     "output_type": "stream",
     "text": [
      "[ 5 10]\n"
     ]
    }
   ],
   "source": [
    "import numpy as np\n",
    "arr = np.array([[1, 6, 9, 10, 5],[2,3,4,9,10]])\n",
    "max_deger=np.amax(arr,axis=1)\n",
    "print(max_deger)"
   ]
  },
  {
   "cell_type": "code",
   "execution_count": 16,
   "id": "0741dc74",
   "metadata": {},
   "outputs": [
    {
     "name": "stdout",
     "output_type": "stream",
     "text": [
      "[ 2  6  9 10 10]\n"
     ]
    }
   ],
   "source": [
    "import numpy as np\n",
    "arr = np.array([[1, 6, 9, 10, 5],[2,3,4,9,10]])\n",
    "max_deger=np.amax(arr,axis=0)\n",
    "print(max_deger)"
   ]
  },
  {
   "cell_type": "code",
   "execution_count": 19,
   "id": "3bf10651",
   "metadata": {},
   "outputs": [
    {
     "name": "stdout",
     "output_type": "stream",
     "text": [
      "[[10]\n",
      " [10]]\n"
     ]
    }
   ],
   "source": [
    "import numpy as np\n",
    "arr = np.array([[1, 6, 9, 10, 5],[2,3,4,9,10]])\n",
    "max_deger=np.amax(arr,axis=1,keepdims=True)\n",
    "print(max_deger)"
   ]
  },
  {
   "cell_type": "code",
   "execution_count": 25,
   "id": "79fcfa44",
   "metadata": {},
   "outputs": [
    {
     "name": "stdout",
     "output_type": "stream",
     "text": [
      "1\n"
     ]
    }
   ],
   "source": [
    "import numpy as np\n",
    "arr = np.array([1, 2, 3, 4, 5])\n",
    "min_deger=np.amin(arr)\n",
    "print(min_deger)"
   ]
  },
  {
   "cell_type": "code",
   "execution_count": null,
   "id": "e11cfc9a",
   "metadata": {},
   "outputs": [],
   "source": []
  }
 ],
 "metadata": {
  "kernelspec": {
   "display_name": "Python 3 (ipykernel)",
   "language": "python",
   "name": "python3"
  },
  "language_info": {
   "codemirror_mode": {
    "name": "ipython",
    "version": 3
   },
   "file_extension": ".py",
   "mimetype": "text/x-python",
   "name": "python",
   "nbconvert_exporter": "python",
   "pygments_lexer": "ipython3",
   "version": "3.9.13"
  }
 },
 "nbformat": 4,
 "nbformat_minor": 5
}

{
 "cells": [
  {
   "cell_type": "markdown",
   "id": "699ffcad",
   "metadata": {},
   "source": [
    "# Pandas Kütüphanesi"
   ]
  },
  {
   "cell_type": "code",
   "execution_count": 2,
   "id": "23e61f76",
   "metadata": {},
   "outputs": [
    {
     "name": "stdout",
     "output_type": "stream",
     "text": [
      "0    1\n",
      "1    2\n",
      "2    3\n",
      "3    4\n",
      "4    5\n",
      "dtype: int64\n"
     ]
    }
   ],
   "source": [
    "import pandas as pd\n",
    "my_list=[1, 2, 3, 4, 5]\n",
    "my_series=pd.Series(my_list)\n",
    "print(my_series)"
   ]
  },
  {
   "cell_type": "code",
   "execution_count": 3,
   "id": "a1891c94",
   "metadata": {},
   "outputs": [
    {
     "name": "stdout",
     "output_type": "stream",
     "text": [
      "     isim  age\n",
      "0   Fethi   38\n",
      "1  Tayfun   34\n",
      "2   Hilal   39\n",
      "3   Elvan   35\n",
      "4   Gizem   32\n"
     ]
    }
   ],
   "source": [
    "import pandas as pd\n",
    "my_dict={'isim':['Fethi','Tayfun','Hilal','Elvan','Gizem'],'age':[38,34,39,35,32]}\n",
    "my_dataframe=pd.DataFrame(my_dict)\n",
    "print(my_dataframe)"
   ]
  },
  {
   "cell_type": "code",
   "execution_count": 10,
   "id": "57984f65",
   "metadata": {},
   "outputs": [
    {
     "name": "stdout",
     "output_type": "stream",
     "text": [
      "     İsim  Soyisim  Yaş\n",
      "0   Fethi  Eraslan   38\n",
      "1  Tayfun  Kayacık   34\n",
      "2   Hilal    Meral   39\n",
      "3   Elvan     Işık   36\n",
      "4   Gizem   Tellal   32\n"
     ]
    }
   ],
   "source": [
    "import pandas as pd\n",
    "my_dataframe = pd.read_excel('D:/Python/pandas_deneme.xlsx')\n",
    "print(my_dataframe)"
   ]
  }
 ],
 "metadata": {
  "kernelspec": {
   "display_name": "Python 3 (ipykernel)",
   "language": "python",
   "name": "python3"
  },
  "language_info": {
   "codemirror_mode": {
    "name": "ipython",
    "version": 3
   },
   "file_extension": ".py",
   "mimetype": "text/x-python",
   "name": "python",
   "nbconvert_exporter": "python",
   "pygments_lexer": "ipython3",
   "version": "3.9.13"
  }
 },
 "nbformat": 4,
 "nbformat_minor": 5
}

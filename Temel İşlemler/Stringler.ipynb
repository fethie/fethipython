{
 "cells": [
  {
   "cell_type": "markdown",
   "id": "b3141645",
   "metadata": {},
   "source": [
    "# STRINGLER"
   ]
  },
  {
   "cell_type": "code",
   "execution_count": 1,
   "id": "d3d08be0",
   "metadata": {},
   "outputs": [
    {
     "data": {
      "text/plain": [
       "'h'"
      ]
     },
     "execution_count": 1,
     "metadata": {},
     "output_type": "execute_result"
    }
   ],
   "source": [
    "# Fethi isminin 3. karakterine ulaşıyoruz.\n",
    "a=\"Fethi\"\n",
    "a[3]"
   ]
  },
  {
   "cell_type": "code",
   "execution_count": 2,
   "id": "a4e9e205",
   "metadata": {},
   "outputs": [
    {
     "data": {
      "text/plain": [
       "\"'\""
      ]
     },
     "execution_count": 2,
     "metadata": {},
     "output_type": "execute_result"
    }
   ],
   "source": [
    "b=\"Fethi'nin Arabası\"\n",
    "b[5]"
   ]
  },
  {
   "cell_type": "code",
   "execution_count": 3,
   "id": "923c2e13",
   "metadata": {},
   "outputs": [
    {
     "data": {
      "text/plain": [
       "\"'nin \""
      ]
     },
     "execution_count": 3,
     "metadata": {},
     "output_type": "execute_result"
    }
   ],
   "source": [
    "b=\"Fethi'nin Arabası\"\n",
    "b[5:10]"
   ]
  },
  {
   "cell_type": "code",
   "execution_count": 4,
   "id": "4a06f526",
   "metadata": {},
   "outputs": [
    {
     "data": {
      "text/plain": [
       "\"Fethi'nin Ar\""
      ]
     },
     "execution_count": 4,
     "metadata": {},
     "output_type": "execute_result"
    }
   ],
   "source": [
    "b=\"Fethi'nin Arabası\"\n",
    "b[:12]"
   ]
  },
  {
   "cell_type": "code",
   "execution_count": null,
   "id": "5833475b",
   "metadata": {},
   "outputs": [],
   "source": []
  }
 ],
 "metadata": {
  "kernelspec": {
   "display_name": "Python 3 (ipykernel)",
   "language": "python",
   "name": "python3"
  },
  "language_info": {
   "codemirror_mode": {
    "name": "ipython",
    "version": 3
   },
   "file_extension": ".py",
   "mimetype": "text/x-python",
   "name": "python",
   "nbconvert_exporter": "python",
   "pygments_lexer": "ipython3",
   "version": "3.9.13"
  }
 },
 "nbformat": 4,
 "nbformat_minor": 5
}

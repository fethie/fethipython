{
 "cells": [
  {
   "cell_type": "markdown",
   "id": "47b20b81",
   "metadata": {},
   "source": [
    "# SÖZLÜKLER"
   ]
  },
  {
   "cell_type": "code",
   "execution_count": 2,
   "id": "1db1a5f2",
   "metadata": {},
   "outputs": [],
   "source": [
    "sözlük1={\"sıfır\":0,\"bir\":1,\"iki\":2,\"üç\":3}"
   ]
  },
  {
   "cell_type": "code",
   "execution_count": 3,
   "id": "f7c38ee0",
   "metadata": {},
   "outputs": [
    {
     "data": {
      "text/plain": [
       "{'sıfır': 0, 'bir': 1, 'iki': 2, 'üç': 3}"
      ]
     },
     "execution_count": 3,
     "metadata": {},
     "output_type": "execute_result"
    }
   ],
   "source": [
    "sözlük1"
   ]
  },
  {
   "cell_type": "code",
   "execution_count": 6,
   "id": "fbb7b318",
   "metadata": {},
   "outputs": [],
   "source": [
    "sözlük2={}"
   ]
  },
  {
   "cell_type": "code",
   "execution_count": 7,
   "id": "3e9b9105",
   "metadata": {},
   "outputs": [
    {
     "data": {
      "text/plain": [
       "{}"
      ]
     },
     "execution_count": 7,
     "metadata": {},
     "output_type": "execute_result"
    }
   ],
   "source": [
    "sözlük2"
   ]
  },
  {
   "cell_type": "code",
   "execution_count": 8,
   "id": "c322ec3a",
   "metadata": {},
   "outputs": [
    {
     "data": {
      "text/plain": [
       "2"
      ]
     },
     "execution_count": 8,
     "metadata": {},
     "output_type": "execute_result"
    }
   ],
   "source": [
    "sözlük1[\"iki\"]"
   ]
  },
  {
   "cell_type": "code",
   "execution_count": 9,
   "id": "84d9c84e",
   "metadata": {},
   "outputs": [],
   "source": [
    "Plakalar={\"Kırklareli\":39,\"İstanbul\":34}"
   ]
  },
  {
   "cell_type": "code",
   "execution_count": 10,
   "id": "f0573472",
   "metadata": {},
   "outputs": [
    {
     "data": {
      "text/plain": [
       "34"
      ]
     },
     "execution_count": 10,
     "metadata": {},
     "output_type": "execute_result"
    }
   ],
   "source": [
    "Plakalar[\"İstanbul\"]"
   ]
  }
 ],
 "metadata": {
  "kernelspec": {
   "display_name": "Python 3 (ipykernel)",
   "language": "python",
   "name": "python3"
  },
  "language_info": {
   "codemirror_mode": {
    "name": "ipython",
    "version": 3
   },
   "file_extension": ".py",
   "mimetype": "text/x-python",
   "name": "python",
   "nbconvert_exporter": "python",
   "pygments_lexer": "ipython3",
   "version": "3.9.13"
  }
 },
 "nbformat": 4,
 "nbformat_minor": 5
}
